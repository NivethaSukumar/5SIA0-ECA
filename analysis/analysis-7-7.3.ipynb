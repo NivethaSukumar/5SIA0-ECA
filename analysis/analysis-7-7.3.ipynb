{
 "cells": [
  {
   "cell_type": "code",
   "execution_count": 5,
   "metadata": {},
   "outputs": [],
   "source": [
    "import pandas as pd\n",
    "import matplotlib as plt\n",
    "import re\n",
    "\n",
    "associativity = [1, 2, 4]\n",
    "\n",
    "%matplotlib inline"
   ]
  },
  {
   "cell_type": "code",
   "execution_count": 6,
   "metadata": {},
   "outputs": [],
   "source": [
    "def read_stats(stat):\n",
    "    values = []\n",
    "    \n",
    "    for size in associativity:\n",
    "        with open(f\"/home/nivetha/5SIA0-ECA-Assignments/eeg/7/7.3/{size}/stats.txt\") as f:\n",
    "            line = f.readline()\n",
    "            while line:\n",
    "                line = re.sub(r\"\\s+#.*$\", \"\", line)\n",
    "                if re.match(stat, line):\n",
    "                    value = float(re.split(r\"\\s+\", line)[1])\n",
    "                    values.append(value)\n",
    "                line = f.readline()\n",
    "                \n",
    "    return pd.Series(list(values), name=stat)"
   ]
  },
  {
   "cell_type": "code",
   "execution_count": 8,
   "metadata": {},
   "outputs": [
    {
     "name": "stdout",
     "output_type": "stream",
     "text": [
      "   associativity  simulation_time\n",
      "0              1         0.089645\n",
      "1              2         0.087784\n",
      "2              4         0.087535\n"
     ]
    },
    {
     "data": {
      "text/plain": [
       "[<matplotlib.axis.XTick at 0x7f5978472b00>,\n",
       " <matplotlib.axis.XTick at 0x7f5978472d30>,\n",
       " <matplotlib.axis.XTick at 0x7f597842e0f0>]"
      ]
     },
     "execution_count": 8,
     "metadata": {},
     "output_type": "execute_result"
    },
    {
     "data": {
      "image/png": "[encoded data removed]",
      "text/plain": [
       "<matplotlib.figure.Figure at 0x7f59784d6320>"
      ]
     },
     "metadata": {},
     "output_type": "display_data"
    }
   ],
   "source": [
    "# Cache size vs simulation seconds\n",
    "associativity = pd.Series(associativity, name='associativity')\n",
    "simulation_time = read_stats(\"sim_seconds\").rename(\"simulation_time\")\n",
    "\n",
    "df = pd.concat([associativity, simulation_time], axis=1)\n",
    "\n",
    "ax = df.plot(kind='line', x='associativity', figsize=(7, 5))\n",
    "df.plot(kind='scatter', x='associativity', y='simulation_time', c='blue', ax=ax)\n",
    "ax.set_xlabel('Associativity')\n",
    "ax.set_ylabel('Simulation time(seconds)')\n",
    "ax.set_xticks(df.associativity)"
   ]
  },
  {
   "cell_type": "code",
   "execution_count": null,
   "metadata": {},
   "outputs": [],
   "source": []
  },
  {
   "cell_type": "code",
   "execution_count": null,
   "metadata": {},
   "outputs": [],
   "source": []
  }
 ],
 "metadata": {
  "kernelspec": {
   "display_name": "Python 3",
   "language": "python",
   "name": "python3"
  },
  "language_info": {
   "codemirror_mode": {
    "name": "ipython",
    "version": 3
   },
   "file_extension": ".py",
   "mimetype": "text/x-python",
   "name": "python",
   "nbconvert_exporter": "python",
   "pygments_lexer": "ipython3",
   "version": "3.6.3"
  }
 },
 "nbformat": 4,
 "nbformat_minor": 2
}
