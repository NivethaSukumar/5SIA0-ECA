{
 "cells": [
  {
   "cell_type": "code",
   "execution_count": 1,
   "metadata": {},
   "outputs": [],
   "source": [
    "import pandas as pd\n",
    "import matplotlib as plt\n",
    "import re\n",
    "\n",
    "cache_sizes = [64, 8 * 1024, 16 * 1024, 32 * 1024, 64 * 1024]\n",
    "\n",
    "%matplotlib inline"
   ]
  },
  {
   "cell_type": "code",
   "execution_count": 2,
   "metadata": {},
   "outputs": [],
   "source": [
    "def read_stats(stat):\n",
    "    values = []\n",
    "    \n",
    "    for size in cache_sizes:\n",
    "        with open(f\"/home/nivetha/5SIA0-ECA-Assignments/eeg/2.2/{size}/stats.txt\") as f:\n",
    "            line = f.readline()\n",
    "            while line:\n",
    "                line = re.sub(r\"\\s+#.*$\", \"\", line)\n",
    "                if re.match(stat, line):\n",
    "                    value = float(re.split(r\"\\s+\", line)[1])\n",
    "                    values.append(value)\n",
    "                line = f.readline()\n",
    "                \n",
    "    return pd.Series(list(values), name=stat)"
   ]
  },
  {
   "cell_type": "code",
   "execution_count": 3,
   "metadata": {},
   "outputs": [
    {
     "ename": "FileNotFoundError",
     "evalue": "[Errno 2] No such file or directory: '../5SIA0-ECA-Assignments/eeg/2.2/64/stats.txt'",
     "output_type": "error",
     "traceback": [
      "\u001b[0;31m---------------------------------------------------------------------------\u001b[0m",
      "\u001b[0;31mFileNotFoundError\u001b[0m                         Traceback (most recent call last)",
      "\u001b[0;32m<ipython-input-3-aed24aa62ffa>\u001b[0m in \u001b[0;36m<module>\u001b[0;34m()\u001b[0m\n\u001b[1;32m      1\u001b[0m \u001b[0;31m# Cache size vs cache miss rate\u001b[0m\u001b[0;34m\u001b[0m\u001b[0;34m\u001b[0m\u001b[0m\n\u001b[1;32m      2\u001b[0m \u001b[0mcache_sizes_series\u001b[0m \u001b[0;34m=\u001b[0m \u001b[0mpd\u001b[0m\u001b[0;34m.\u001b[0m\u001b[0mSeries\u001b[0m\u001b[0;34m(\u001b[0m\u001b[0mcache_sizes\u001b[0m\u001b[0;34m,\u001b[0m \u001b[0mname\u001b[0m\u001b[0;34m=\u001b[0m\u001b[0;34m'cache_size'\u001b[0m\u001b[0;34m)\u001b[0m\u001b[0;34m\u001b[0m\u001b[0m\n\u001b[0;32m----> 3\u001b[0;31m \u001b[0micache_overall_miss_rates\u001b[0m \u001b[0;34m=\u001b[0m \u001b[0mread_stats\u001b[0m\u001b[0;34m(\u001b[0m\u001b[0;34m\"system.cpu.icache.overall_miss_rate::total\"\u001b[0m\u001b[0;34m)\u001b[0m\u001b[0;34m.\u001b[0m\u001b[0mrename\u001b[0m\u001b[0;34m(\u001b[0m\u001b[0;34m\"icache_miss_rate\"\u001b[0m\u001b[0;34m)\u001b[0m\u001b[0;34m\u001b[0m\u001b[0m\n\u001b[0m\u001b[1;32m      4\u001b[0m \u001b[0mdcache_overall_miss_rates\u001b[0m \u001b[0;34m=\u001b[0m \u001b[0mread_stats\u001b[0m\u001b[0;34m(\u001b[0m\u001b[0;34m\"system.cpu.dcache.overall_miss_rate::total\"\u001b[0m\u001b[0;34m)\u001b[0m\u001b[0;34m.\u001b[0m\u001b[0mrename\u001b[0m\u001b[0;34m(\u001b[0m\u001b[0;34m\"dcache_miss_rate\"\u001b[0m\u001b[0;34m)\u001b[0m\u001b[0;34m\u001b[0m\u001b[0m\n\u001b[1;32m      5\u001b[0m \u001b[0;34m\u001b[0m\u001b[0m\n",
      "\u001b[0;32m<ipython-input-2-d396081d76cb>\u001b[0m in \u001b[0;36mread_stats\u001b[0;34m(stat)\u001b[0m\n\u001b[1;32m      3\u001b[0m \u001b[0;34m\u001b[0m\u001b[0m\n\u001b[1;32m      4\u001b[0m     \u001b[0;32mfor\u001b[0m \u001b[0msize\u001b[0m \u001b[0;32min\u001b[0m \u001b[0mcache_sizes\u001b[0m\u001b[0;34m:\u001b[0m\u001b[0;34m\u001b[0m\u001b[0m\n\u001b[0;32m----> 5\u001b[0;31m         \u001b[0;32mwith\u001b[0m \u001b[0mopen\u001b[0m\u001b[0;34m(\u001b[0m\u001b[0;34mf\"../5SIA0-ECA-Assignments/eeg/2.2/{size}/stats.txt\"\u001b[0m\u001b[0;34m)\u001b[0m \u001b[0;32mas\u001b[0m \u001b[0mf\u001b[0m\u001b[0;34m:\u001b[0m\u001b[0;34m\u001b[0m\u001b[0m\n\u001b[0m\u001b[1;32m      6\u001b[0m             \u001b[0mline\u001b[0m \u001b[0;34m=\u001b[0m \u001b[0mf\u001b[0m\u001b[0;34m.\u001b[0m\u001b[0mreadline\u001b[0m\u001b[0;34m(\u001b[0m\u001b[0;34m)\u001b[0m\u001b[0;34m\u001b[0m\u001b[0m\n\u001b[1;32m      7\u001b[0m             \u001b[0;32mwhile\u001b[0m \u001b[0mline\u001b[0m\u001b[0;34m:\u001b[0m\u001b[0;34m\u001b[0m\u001b[0m\n",
      "\u001b[0;31mFileNotFoundError\u001b[0m: [Errno 2] No such file or directory: '../5SIA0-ECA-Assignments/eeg/2.2/64/stats.txt'"
     ]
    }
   ],
   "source": [
    "# Cache size vs cache miss rate\n",
    "cache_sizes_series = pd.Series(cache_sizes, name='cache_size')\n",
    "icache_overall_miss_rates = read_stats(\"system.cpu.icache.overall_miss_rate::total\").rename(\"icache_miss_rate\")\n",
    "dcache_overall_miss_rates = read_stats(\"system.cpu.dcache.overall_miss_rate::total\").rename(\"dcache_miss_rate\")\n",
    "\n",
    "df = pd.concat([cache_sizes_series, icache_overall_miss_rates, dcache_overall_miss_rates], axis=1)\n",
    "\n",
    "df.dcache_miss_rate = df.dcache_miss_rate.apply(lambda x: x * 100)\n",
    "df.icache_miss_rate = df.icache_miss_rate.apply(lambda x: x * 100)\n",
    "\n",
    "ax = df.plot(kind='line', x='cache_size', figsize=(7, 5))\n",
    "df.plot(kind='scatter', x='cache_size', y='icache_miss_rate', c='orange', ax=ax)\n",
    "df.plot(kind='scatter', x='cache_size', y='dcache_miss_rate', c='blue', ax=ax)\n",
    "\n",
    "ax.set_xlabel('Cache Size (bytes)')\n",
    "ax.set_ylabel('Miss rate (%)')\n",
    "ax.set_xticks(df.cache_size)"
   ]
  },
  {
   "cell_type": "code",
   "execution_count": null,
   "metadata": {},
   "outputs": [],
   "source": [
    "# Cache size vs hits\n",
    "cache_sizes_series = pd.Series(cache_sizes, name='cache_size')\n",
    "icache_overall_hits = read_stats(\"system.cpu.icache.overall_hits::total\").rename(\"icache_hits\")\n",
    "dcache_overall_hits = read_stats(\"system.cpu.dcache.overall_hits::total\").rename(\"dcache_hits\")\n",
    "\n",
    "df = pd.concat([cache_sizes_series, icache_overall_hits, dcache_overall_hits], axis=1)\n",
    "\n",
    "ax = df.plot(kind='line', x='cache_size', figsize=(7, 5))\n",
    "df.plot(kind='scatter', x='cache_size', y='icache_hits', c='blue', ax=ax)\n",
    "df.plot(kind='scatter', x='cache_size', y='dcache_hits', c='orange', ax=ax)\n",
    "\n",
    "ax.set_xlabel('Cache Size (bytes)')\n",
    "ax.set_ylabel('Hits')\n",
    "ax.set_xticks(df.cache_size)"
   ]
  },
  {
   "cell_type": "code",
   "execution_count": null,
   "metadata": {},
   "outputs": [],
   "source": [
    "# Cache size vs simulation seconds\n",
    "cache_sizes_series = pd.Series(cache_sizes, name='cache_size')\n",
    "simulation_time = read_stats(\"sim_seconds\").rename(\"simulation_time\")\n",
    "# dcache_overall_hits = read_stats(\"system.cpu.dcache.overall_hits::total\").rename(\"dcache_hits\")\n",
    "\n",
    "df = pd.concat([cache_sizes_series, simulation_time], axis=1)\n",
    "\n",
    "ax = df.plot(kind='line', x='cache_size', figsize=(7, 5))\n",
    "df.plot(kind='scatter', x='cache_size', y='simulation_time', c='blue', ax=ax)\n",
    "\n",
    "\n",
    "ax.set_xlabel('Cache Size (bytes)')\n",
    "ax.set_ylabel('Simulation time(seconds)')\n",
    "ax.set_xticks(df.cache_size)"
   ]
  }
 ],
 "metadata": {
  "kernelspec": {
   "display_name": "Python 3",
   "language": "python",
   "name": "python3"
  },
  "language_info": {
   "codemirror_mode": {
    "name": "ipython",
    "version": 3
   },
   "file_extension": ".py",
   "mimetype": "text/x-python",
   "name": "python",
   "nbconvert_exporter": "python",
   "pygments_lexer": "ipython3",
   "version": "3.6.3"
  }
 },
 "nbformat": 4,
 "nbformat_minor": 2
}
